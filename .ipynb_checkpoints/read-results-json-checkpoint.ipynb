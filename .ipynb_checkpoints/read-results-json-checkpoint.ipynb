{
 "cells": [
  {
   "cell_type": "code",
   "execution_count": 23,
   "metadata": {
    "scrolled": false
   },
   "outputs": [
    {
     "name": "stdout",
     "output_type": "stream",
     "text": [
      "image shape: (600, 800)\n",
      "car pixels: 4303\n",
      "non-car pixels: 475697\n",
      "road pixels: 81809\n",
      "non-road pixels: 398191\n"
     ]
    },
    {
     "name": "stderr",
     "output_type": "stream",
     "text": [
      "/home/jay/anaconda3/lib/python3.6/site-packages/ipykernel_launcher.py:18: DeprecationWarning: `imread` is deprecated!\n",
      "`imread` is deprecated in SciPy 1.0.0, and will be removed in 1.2.0.\n",
      "Use ``imageio.imread`` instead.\n"
     ]
    },
    {
     "ename": "ValueError",
     "evalue": "shapes (600,800) and (1,4) not aligned: 800 (dim 1) != 1 (dim 0)",
     "output_type": "error",
     "traceback": [
      "\u001b[0;31m---------------------------------------------------------------------------\u001b[0m",
      "\u001b[0;31mValueError\u001b[0m                                Traceback (most recent call last)",
      "\u001b[0;32m<ipython-input-23-29760cc96e35>\u001b[0m in \u001b[0;36m<module>\u001b[0;34m()\u001b[0m\n\u001b[1;32m     41\u001b[0m \u001b[0;31m#     plt.show()\u001b[0m\u001b[0;34m\u001b[0m\u001b[0;34m\u001b[0m\u001b[0m\n\u001b[1;32m     42\u001b[0m \u001b[0;34m\u001b[0m\u001b[0m\n\u001b[0;32m---> 43\u001b[0;31m     \u001b[0mmask\u001b[0m \u001b[0;34m=\u001b[0m \u001b[0mnp\u001b[0m\u001b[0;34m.\u001b[0m\u001b[0mdot\u001b[0m\u001b[0;34m(\u001b[0m\u001b[0mseg_road\u001b[0m\u001b[0;34m,\u001b[0m \u001b[0mnp\u001b[0m\u001b[0;34m.\u001b[0m\u001b[0marray\u001b[0m\u001b[0;34m(\u001b[0m\u001b[0;34m[\u001b[0m\u001b[0;34m[\u001b[0m\u001b[0;36m0\u001b[0m\u001b[0;34m,\u001b[0m \u001b[0;36m255\u001b[0m\u001b[0;34m,\u001b[0m \u001b[0;36m0\u001b[0m\u001b[0;34m,\u001b[0m \u001b[0;36m127\u001b[0m\u001b[0;34m]\u001b[0m\u001b[0;34m]\u001b[0m\u001b[0;34m)\u001b[0m\u001b[0;34m)\u001b[0m \u001b[0;34m+\u001b[0m            \u001b[0mnp\u001b[0m\u001b[0;34m.\u001b[0m\u001b[0mdot\u001b[0m\u001b[0;34m(\u001b[0m\u001b[0mseg_car\u001b[0m\u001b[0;34m,\u001b[0m \u001b[0mnp\u001b[0m\u001b[0;34m.\u001b[0m\u001b[0marray\u001b[0m\u001b[0;34m(\u001b[0m\u001b[0;34m[\u001b[0m\u001b[0;34m[\u001b[0m\u001b[0;36m255\u001b[0m\u001b[0;34m,\u001b[0m \u001b[0;36m0\u001b[0m\u001b[0;34m,\u001b[0m \u001b[0;36m0\u001b[0m\u001b[0;34m,\u001b[0m \u001b[0;36m127\u001b[0m\u001b[0;34m]\u001b[0m\u001b[0;34m]\u001b[0m\u001b[0;34m)\u001b[0m\u001b[0;34m)\u001b[0m\u001b[0;34m\u001b[0m\u001b[0m\n\u001b[0m\u001b[1;32m     44\u001b[0m \u001b[0;34m\u001b[0m\u001b[0m\n\u001b[1;32m     45\u001b[0m     \u001b[0mmask\u001b[0m \u001b[0;34m=\u001b[0m \u001b[0mscipy\u001b[0m\u001b[0;34m.\u001b[0m\u001b[0mmisc\u001b[0m\u001b[0;34m.\u001b[0m\u001b[0mtoimage\u001b[0m\u001b[0;34m(\u001b[0m\u001b[0mmask\u001b[0m\u001b[0;34m,\u001b[0m \u001b[0mmode\u001b[0m\u001b[0;34m=\u001b[0m\u001b[0;34m\"RGBA\"\u001b[0m\u001b[0;34m)\u001b[0m\u001b[0;34m\u001b[0m\u001b[0m\n",
      "\u001b[0;31mValueError\u001b[0m: shapes (600,800) and (1,4) not aligned: 800 (dim 1) != 1 (dim 0)"
     ]
    }
   ],
   "source": [
    "import json\n",
    "import matplotlib.pyplot as plt\n",
    "import base64\n",
    "import numpy as np\n",
    "import scipy.misc\n",
    "import skvideo.io\n",
    "\n",
    "VIDEO_PATH = \"../Example/test_video.mp4\"\n",
    "\n",
    "# RESULTS_JSON_PATH = \"../Example/results.json\"\n",
    "RESULTS_JSON_PATH = \"saved_results/2018-05-12-2224.json\"\n",
    "\n",
    "def decode(packet):\n",
    "    img = base64.b64decode(packet)\n",
    "    filename = './image.png'\n",
    "    with open(filename, 'wb') as f:\n",
    "        f.write(img)\n",
    "    result = scipy.misc.imread(filename)\n",
    "    return result\n",
    "\n",
    "with open(RESULTS_JSON_PATH) as json_file:\n",
    "    results = json.load(json_file)\n",
    "    \n",
    "video = skvideo.io.vread(VIDEO_PATH)\n",
    "frame = 1\n",
    "\n",
    "for rgb_frame in video:\n",
    "    key = str(frame)\n",
    "    result = results[key]\n",
    "    seg_car = decode(result[0])\n",
    "    seg_road = decode(result[1])\n",
    "    print(\"image shape:\", seg_car.shape)\n",
    "    print(\"car pixels:\", np.sum(seg_car == 1))\n",
    "    print(\"non-car pixels:\", np.sum(seg_car == 0))\n",
    "    print(\"road pixels:\", np.sum(seg_road == 1))\n",
    "    print(\"non-road pixels:\", np.sum(seg_road == 0))\n",
    "    \n",
    "#     plt.figure(figsize=(15,15))\n",
    "#     plt.subplot(221), plt.imshow(seg_car, cmap='gray')\n",
    "#     plt.subplot(222), plt.imshow(seg_road, cmap='gray')\n",
    "#     plt.show()\n",
    "\n",
    "    seg_car = seg_car.reshape(image_shape[0], image_shape[1], 1)\n",
    "    seg_road = seg_road.reshape(image_shape[0], image_shape[1], 1)\n",
    "    mask = np.dot(seg_road, np.array([[0, 255, 0, 127]])) + \\\n",
    "           np.dot(seg_car, np.array([[255, 0, 0, 127]]))\n",
    "\n",
    "    mask = scipy.misc.toimage(mask, mode=\"RGBA\")\n",
    "\n",
    "    street_im = scipy.misc.toimage(rgb_frame)\n",
    "    street_im.paste(mask, box=None, mask=mask)\n",
    "    \n",
    "    plt.figure(figsize=(15,10))\n",
    "    plt.imshow(street_im)\n",
    "    plt.show()\n",
    "    \n",
    "    frame += 1"
   ]
  },
  {
   "cell_type": "code",
   "execution_count": null,
   "metadata": {
    "collapsed": true
   },
   "outputs": [],
   "source": []
  },
  {
   "cell_type": "code",
   "execution_count": null,
   "metadata": {
    "collapsed": true
   },
   "outputs": [],
   "source": []
  }
 ],
 "metadata": {
  "kernelspec": {
   "display_name": "Python 3",
   "language": "python",
   "name": "python3"
  },
  "language_info": {
   "codemirror_mode": {
    "name": "ipython",
    "version": 3
   },
   "file_extension": ".py",
   "mimetype": "text/x-python",
   "name": "python",
   "nbconvert_exporter": "python",
   "pygments_lexer": "ipython3",
   "version": "3.6.3"
  }
 },
 "nbformat": 4,
 "nbformat_minor": 2
}
