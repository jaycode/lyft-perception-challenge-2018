{
 "cells": [
  {
   "cell_type": "markdown",
   "metadata": {},
   "source": [
    "Load a model then use it on test images."
   ]
  },
  {
   "cell_type": "code",
   "execution_count": 1,
   "metadata": {},
   "outputs": [
    {
     "name": "stderr",
     "output_type": "stream",
     "text": [
      "/home/jay/anaconda3/lib/python3.6/site-packages/h5py/__init__.py:34: FutureWarning: Conversion of the second argument of issubdtype from `float` to `np.floating` is deprecated. In future, it will be treated as `np.float64 == np.dtype(float).type`.\n",
      "  from ._conv import register_converters as _register_converters\n"
     ]
    }
   ],
   "source": [
    "import tensorflow as tf\n",
    "from glob import glob\n",
    "import os.path\n",
    "import cv2\n",
    "import scipy.misc\n",
    "import numpy as np\n",
    "from helper import cut_hood\n",
    "import matplotlib.pyplot as plt\n",
    "\n",
    "TEST_DIR = '../lyft_training_data/Test'\n",
    "MODEL_DIR = 'saved_models/2018-05-11-1539'\n",
    "IMG_SIZE = (254, 254)\n",
    "\n",
    "# Area of Interest percentage (from the top)\n",
    "AOI_PERC = 0.83\n",
    "\n",
    "def reshape_to_ori(mask, ori_img_shape, perc_retain):\n",
    "    fin_mask = np.zeros((ori_img_shape[0], ori_img_shape[1], 4))\n",
    "    scale_height = int(ori_img_shape[0] * perc_retain)\n",
    "    scale_width = int(ori_img_shape[1])\n",
    "    mask = cv2.resize(mask, (scale_width, scale_height), interpolation=cv2.INTER_NEAREST)\n",
    "    fin_mask[0:mask.shape[0], 0:mask.shape[1], :] = mask\n",
    "    return fin_mask\n",
    "\n",
    "def gen_test_output(sess, logits, keep_prob, image_pl, data_folder, image_shape, aoi_perc=AOI_PERC):\n",
    "    \"\"\"\n",
    "    Generate test output using the test images\n",
    "    :param sess: TF session\n",
    "    :param logits: TF Tensor for the logits\n",
    "    :param keep_prob: TF Placeholder for the dropout keep robability\n",
    "    :param image_pl: TF Placeholder for the image placeholder\n",
    "    :param data_folder: Path to the folder that contains the datasets\n",
    "    :param image_shape: Tuple - Shape of image\n",
    "    :return: Output for for each test image\n",
    "    \"\"\"\n",
    "    for image_file in glob(os.path.join(data_folder, '*.png')):\n",
    "        ori_img = cv2.cvtColor(cv2.imread(image_file), cv2.COLOR_BGR2RGB)\n",
    "        image = cv2.resize(cut_hood(ori_img, perc_retain=aoi_perc),\n",
    "                           (image_shape[1], image_shape[0]))\n",
    "\n",
    "        im_softmax = sess.run(\n",
    "            [tf.nn.softmax(logits)],\n",
    "            {keep_prob: 1.0, image_pl: [image]})\n",
    "        im_softmax_road = im_softmax[0][:, 1].reshape(image_shape[0], image_shape[1])\n",
    "        seg_road = \\\n",
    "          (im_softmax_road >= 0.50).reshape(image_shape[0], image_shape[1], 1)\n",
    "            \n",
    "        im_softmax_vehicle = im_softmax[0][:, 2].reshape(image_shape[0], image_shape[1])\n",
    "        seg_vehicle = \\\n",
    "          (im_softmax_vehicle >= 0.50).reshape(image_shape[0], image_shape[1], 1)\n",
    "\n",
    "        mask = np.dot(seg_road, np.array([[0, 255, 0, 127]])) + \\\n",
    "               np.dot(seg_vehicle, np.array([[255, 0, 0, 127]]))\n",
    "        \n",
    "        mask = reshape_to_ori(mask, ori_img.shape, aoi_perc)\n",
    "\n",
    "        mask = scipy.misc.toimage(mask, mode=\"RGBA\")\n",
    "        \n",
    "        street_im = scipy.misc.toimage(ori_img)\n",
    "        street_im.paste(mask, box=None, mask=mask)\n",
    "\n",
    "        yield os.path.basename(image_file), np.array(street_im)"
   ]
  },
  {
   "cell_type": "code",
   "execution_count": 2,
   "metadata": {},
   "outputs": [
    {
     "name": "stdout",
     "output_type": "stream",
     "text": [
      "INFO:tensorflow:Restoring parameters from b'saved_models/2018-05-11-1259/variables/variables'\n"
     ]
    },
    {
     "ename": "ValueError",
     "evalue": "cannot reshape array of size 65536 into shape (254,254)",
     "output_type": "error",
     "traceback": [
      "\u001b[0;31m---------------------------------------------------------------------------\u001b[0m",
      "\u001b[0;31mValueError\u001b[0m                                Traceback (most recent call last)",
      "\u001b[0;32m<ipython-input-2-53241c43bbdd>\u001b[0m in \u001b[0;36m<module>\u001b[0;34m()\u001b[0m\n\u001b[1;32m     15\u001b[0m \u001b[0mimages\u001b[0m \u001b[0;34m=\u001b[0m \u001b[0;34m[\u001b[0m\u001b[0;34m]\u001b[0m\u001b[0;34m\u001b[0m\u001b[0m\n\u001b[1;32m     16\u001b[0m \u001b[0mimage_names\u001b[0m \u001b[0;34m=\u001b[0m \u001b[0;34m[\u001b[0m\u001b[0;34m]\u001b[0m\u001b[0;34m\u001b[0m\u001b[0m\n\u001b[0;32m---> 17\u001b[0;31m \u001b[0;32mfor\u001b[0m \u001b[0mname\u001b[0m\u001b[0;34m,\u001b[0m \u001b[0mimg\u001b[0m \u001b[0;32min\u001b[0m \u001b[0mimage_outputs\u001b[0m\u001b[0;34m:\u001b[0m\u001b[0;34m\u001b[0m\u001b[0m\n\u001b[0m\u001b[1;32m     18\u001b[0m     \u001b[0mimage_names\u001b[0m\u001b[0;34m.\u001b[0m\u001b[0mappend\u001b[0m\u001b[0;34m(\u001b[0m\u001b[0mname\u001b[0m\u001b[0;34m)\u001b[0m\u001b[0;34m\u001b[0m\u001b[0m\n\u001b[1;32m     19\u001b[0m     \u001b[0mimages\u001b[0m\u001b[0;34m.\u001b[0m\u001b[0mappend\u001b[0m\u001b[0;34m(\u001b[0m\u001b[0mimg\u001b[0m\u001b[0;34m)\u001b[0m\u001b[0;34m\u001b[0m\u001b[0m\n",
      "\u001b[0;32m<ipython-input-1-f979dd4fb2a3>\u001b[0m in \u001b[0;36mgen_test_output\u001b[0;34m(sess, logits, keep_prob, image_pl, data_folder, image_shape, aoi_perc)\u001b[0m\n\u001b[1;32m     42\u001b[0m             \u001b[0;34m[\u001b[0m\u001b[0mtf\u001b[0m\u001b[0;34m.\u001b[0m\u001b[0mnn\u001b[0m\u001b[0;34m.\u001b[0m\u001b[0msoftmax\u001b[0m\u001b[0;34m(\u001b[0m\u001b[0mlogits\u001b[0m\u001b[0;34m)\u001b[0m\u001b[0;34m]\u001b[0m\u001b[0;34m,\u001b[0m\u001b[0;34m\u001b[0m\u001b[0m\n\u001b[1;32m     43\u001b[0m             {keep_prob: 1.0, image_pl: [image]})\n\u001b[0;32m---> 44\u001b[0;31m         \u001b[0mim_softmax_road\u001b[0m \u001b[0;34m=\u001b[0m \u001b[0mim_softmax\u001b[0m\u001b[0;34m[\u001b[0m\u001b[0;36m0\u001b[0m\u001b[0;34m]\u001b[0m\u001b[0;34m[\u001b[0m\u001b[0;34m:\u001b[0m\u001b[0;34m,\u001b[0m \u001b[0;36m1\u001b[0m\u001b[0;34m]\u001b[0m\u001b[0;34m.\u001b[0m\u001b[0mreshape\u001b[0m\u001b[0;34m(\u001b[0m\u001b[0mimage_shape\u001b[0m\u001b[0;34m[\u001b[0m\u001b[0;36m0\u001b[0m\u001b[0;34m]\u001b[0m\u001b[0;34m,\u001b[0m \u001b[0mimage_shape\u001b[0m\u001b[0;34m[\u001b[0m\u001b[0;36m1\u001b[0m\u001b[0;34m]\u001b[0m\u001b[0;34m)\u001b[0m\u001b[0;34m\u001b[0m\u001b[0m\n\u001b[0m\u001b[1;32m     45\u001b[0m         \u001b[0mseg_road\u001b[0m \u001b[0;34m=\u001b[0m           \u001b[0;34m(\u001b[0m\u001b[0mim_softmax_road\u001b[0m \u001b[0;34m>=\u001b[0m \u001b[0;36m0.50\u001b[0m\u001b[0;34m)\u001b[0m\u001b[0;34m.\u001b[0m\u001b[0mreshape\u001b[0m\u001b[0;34m(\u001b[0m\u001b[0mimage_shape\u001b[0m\u001b[0;34m[\u001b[0m\u001b[0;36m0\u001b[0m\u001b[0;34m]\u001b[0m\u001b[0;34m,\u001b[0m \u001b[0mimage_shape\u001b[0m\u001b[0;34m[\u001b[0m\u001b[0;36m1\u001b[0m\u001b[0;34m]\u001b[0m\u001b[0;34m,\u001b[0m \u001b[0;36m1\u001b[0m\u001b[0;34m)\u001b[0m\u001b[0;34m\u001b[0m\u001b[0m\n\u001b[1;32m     46\u001b[0m \u001b[0;34m\u001b[0m\u001b[0m\n",
      "\u001b[0;31mValueError\u001b[0m: cannot reshape array of size 65536 into shape (254,254)"
     ]
    }
   ],
   "source": [
    "# https://stackoverflow.com/questions/33759623/tensorflow-how-to-save-restore-a-model/47235448#47235448\n",
    "\n",
    "sess = tf.Session()\n",
    "signature_key = tf.saved_model.signature_constants.DEFAULT_SERVING_SIGNATURE_DEF_KEY\n",
    "\n",
    "meta_graph_def = tf.saved_model.loader.load(sess,\n",
    "                                            [tf.saved_model.tag_constants.SERVING], MODEL_DIR)\n",
    "\n",
    "image_input = sess.graph.get_tensor_by_name('image_input:0')\n",
    "keep_prob = sess.graph.get_tensor_by_name('keep_prob:0')\n",
    "logits = sess.graph.get_tensor_by_name('logits:0')\n",
    "\n",
    "image_outputs = gen_test_output(sess, logits, keep_prob, image_input, TEST_DIR, IMG_SIZE)\n",
    "\n",
    "images = []\n",
    "image_names = []\n",
    "for name, img in image_outputs:\n",
    "    image_names.append(name)\n",
    "    images.append(img)"
   ]
  },
  {
   "cell_type": "code",
   "execution_count": null,
   "metadata": {
    "scrolled": false
   },
   "outputs": [],
   "source": [
    "for img in images:\n",
    "    plt.figure(figsize=(15,10))\n",
    "    plt.imshow(img)\n",
    "    plt.show()"
   ]
  }
 ],
 "metadata": {
  "kernelspec": {
   "display_name": "Python 3",
   "language": "python",
   "name": "python3"
  },
  "language_info": {
   "codemirror_mode": {
    "name": "ipython",
    "version": 3
   },
   "file_extension": ".py",
   "mimetype": "text/x-python",
   "name": "python",
   "nbconvert_exporter": "python",
   "pygments_lexer": "ipython3",
   "version": "3.6.3"
  }
 },
 "nbformat": 4,
 "nbformat_minor": 2
}
